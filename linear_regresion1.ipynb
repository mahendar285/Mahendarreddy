{
 "cells": [
  {
   "cell_type": "code",
   "execution_count": 1,
   "id": "799094ce-8ea6-40e1-a265-52d54164a80a",
   "metadata": {},
   "outputs": [],
   "source": [
    "import pandas as pd\n",
    "import numpy as np"
   ]
  },
  {
   "cell_type": "code",
   "execution_count": null,
   "id": "5003cdb0-27b5-462d-9f54-d50b96972c82",
   "metadata": {},
   "outputs": [],
   "source": [
    "data = pd.read_csv(\"NewspaperData.csv\")\n",
    "print(data)"
   ]
  }
 ],
 "metadata": {
  "kernelspec": {
   "display_name": "Python [conda env:MEmu Download]",
   "language": "python",
   "name": "conda-env-MEmu_Download-py"
  },
  "language_info": {
   "codemirror_mode": {
    "name": "ipython",
    "version": 3
   },
   "file_extension": ".py",
   "mimetype": "text/x-python",
   "name": "python",
   "nbconvert_exporter": "python",
   "pygments_lexer": "ipython3",
   "version": "3.12.7"
  }
 },
 "nbformat": 4,
 "nbformat_minor": 5
}
