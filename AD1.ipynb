{
 "cells": [
  {
   "cell_type": "code",
   "execution_count": 1,
   "id": "c85f3243-bb78-4a84-96e4-f5d304c3f014",
   "metadata": {},
   "outputs": [],
   "source": [
    "import pandas as pd\n",
    "import numpy as np\n",
    "import matplotlib.pyplot as plt\n",
    "import seaborn as sns"
   ]
  },
  {
   "cell_type": "code",
   "execution_count": 5,
   "id": "500a873f-493e-4369-b379-890307c6dfe5",
   "metadata": {},
   "outputs": [
    {
     "name": "stdout",
     "output_type": "stream",
     "text": [
      "           UserId    ProductId  Rating   Timestamp\n",
      "0       User44084  Product8646       3  1513224892\n",
      "1       User32096  Product2879       3  1396046321\n",
      "2       User48182  Product2150       3  1430840372\n",
      "3       User48214  Product4226       4  1264279238\n",
      "4       User27633  Product5750       3  1530777749\n",
      "...           ...          ...     ...         ...\n",
      "100071  User28844  Product7689       5  1528133693\n",
      "100072  User24768  Product6914       5  1627781180\n",
      "100073   User9547  Product2205       3  1501029965\n",
      "100074  User47066  Product4386       2  1311893418\n",
      "100075  User26984  Product3638       4  1274091928\n",
      "\n",
      "[100076 rows x 4 columns]\n"
     ]
    }
   ],
   "source": [
    "data = pd.read_csv(\"Product_Ratings_Dataset.csv\")\n",
    "print(data)"
   ]
  },
  {
   "cell_type": "code",
   "execution_count": 7,
   "id": "ec1aaf71-a300-49cc-a91f-afbd54fe4753",
   "metadata": {},
   "outputs": [
    {
     "name": "stdout",
     "output_type": "stream",
     "text": [
      "<class 'pandas.core.frame.DataFrame'>\n",
      "RangeIndex: 100076 entries, 0 to 100075\n",
      "Data columns (total 4 columns):\n",
      " #   Column     Non-Null Count   Dtype \n",
      "---  ------     --------------   ----- \n",
      " 0   UserId     100076 non-null  object\n",
      " 1   ProductId  100076 non-null  object\n",
      " 2   Rating     100076 non-null  int64 \n",
      " 3   Timestamp  100076 non-null  int64 \n",
      "dtypes: int64(2), object(2)\n",
      "memory usage: 3.1+ MB\n"
     ]
    }
   ],
   "source": [
    "data.info()"
   ]
  },
  {
   "cell_type": "code",
   "execution_count": 11,
   "id": "f1dd53b8-1429-4145-bebc-fa4134d6ec68",
   "metadata": {},
   "outputs": [
    {
     "name": "stdout",
     "output_type": "stream",
     "text": [
      "<class 'pandas.core.frame.DataFrame'>\n",
      "(100076, 4)\n"
     ]
    }
   ],
   "source": [
    "print(type(data))\n",
    "print(data.shape)"
   ]
  },
  {
   "cell_type": "code",
   "execution_count": 13,
   "id": "6cc25367-3953-480d-8c22-5f1c59c43d9e",
   "metadata": {},
   "outputs": [
    {
     "data": {
      "text/plain": [
       "(100076, 4)"
      ]
     },
     "execution_count": 13,
     "metadata": {},
     "output_type": "execute_result"
    }
   ],
   "source": [
    "data.shape"
   ]
  },
  {
   "cell_type": "code",
   "execution_count": 15,
   "id": "748e98b4-4711-49db-8d3d-18071af760f8",
   "metadata": {},
   "outputs": [
    {
     "data": {
      "text/plain": [
       "UserId       object\n",
       "ProductId    object\n",
       "Rating        int64\n",
       "Timestamp     int64\n",
       "dtype: object"
      ]
     },
     "execution_count": 15,
     "metadata": {},
     "output_type": "execute_result"
    }
   ],
   "source": [
    "data.dtypes"
   ]
  },
  {
   "cell_type": "code",
   "execution_count": 17,
   "id": "621ec9d4-5a8e-45fe-800d-45ee9f6100a7",
   "metadata": {},
   "outputs": [
    {
     "data": {
      "text/html": [
       "<div>\n",
       "<style scoped>\n",
       "    .dataframe tbody tr th:only-of-type {\n",
       "        vertical-align: middle;\n",
       "    }\n",
       "\n",
       "    .dataframe tbody tr th {\n",
       "        vertical-align: top;\n",
       "    }\n",
       "\n",
       "    .dataframe thead th {\n",
       "        text-align: right;\n",
       "    }\n",
       "</style>\n",
       "<table border=\"1\" class=\"dataframe\">\n",
       "  <thead>\n",
       "    <tr style=\"text-align: right;\">\n",
       "      <th></th>\n",
       "      <th>Rating</th>\n",
       "      <th>Timestamp</th>\n",
       "    </tr>\n",
       "  </thead>\n",
       "  <tbody>\n",
       "    <tr>\n",
       "      <th>count</th>\n",
       "      <td>100076.000000</td>\n",
       "      <td>1.000760e+05</td>\n",
       "    </tr>\n",
       "    <tr>\n",
       "      <th>mean</th>\n",
       "      <td>2.997562</td>\n",
       "      <td>1.467586e+09</td>\n",
       "    </tr>\n",
       "    <tr>\n",
       "      <th>std</th>\n",
       "      <td>1.413257</td>\n",
       "      <td>1.184226e+08</td>\n",
       "    </tr>\n",
       "    <tr>\n",
       "      <th>min</th>\n",
       "      <td>1.000000</td>\n",
       "      <td>1.262310e+09</td>\n",
       "    </tr>\n",
       "    <tr>\n",
       "      <th>25%</th>\n",
       "      <td>2.000000</td>\n",
       "      <td>1.365000e+09</td>\n",
       "    </tr>\n",
       "    <tr>\n",
       "      <th>50%</th>\n",
       "      <td>3.000000</td>\n",
       "      <td>1.467459e+09</td>\n",
       "    </tr>\n",
       "    <tr>\n",
       "      <th>75%</th>\n",
       "      <td>4.000000</td>\n",
       "      <td>1.570189e+09</td>\n",
       "    </tr>\n",
       "    <tr>\n",
       "      <th>max</th>\n",
       "      <td>5.000000</td>\n",
       "      <td>1.672444e+09</td>\n",
       "    </tr>\n",
       "  </tbody>\n",
       "</table>\n",
       "</div>"
      ],
      "text/plain": [
       "              Rating     Timestamp\n",
       "count  100076.000000  1.000760e+05\n",
       "mean        2.997562  1.467586e+09\n",
       "std         1.413257  1.184226e+08\n",
       "min         1.000000  1.262310e+09\n",
       "25%         2.000000  1.365000e+09\n",
       "50%         3.000000  1.467459e+09\n",
       "75%         4.000000  1.570189e+09\n",
       "max         5.000000  1.672444e+09"
      ]
     },
     "execution_count": 17,
     "metadata": {},
     "output_type": "execute_result"
    }
   ],
   "source": [
    "data.describe()"
   ]
  },
  {
   "cell_type": "code",
   "execution_count": 19,
   "id": "0e76b08a-230d-4d61-8269-c4599605044d",
   "metadata": {},
   "outputs": [
    {
     "data": {
      "text/html": [
       "<div>\n",
       "<style scoped>\n",
       "    .dataframe tbody tr th:only-of-type {\n",
       "        vertical-align: middle;\n",
       "    }\n",
       "\n",
       "    .dataframe tbody tr th {\n",
       "        vertical-align: top;\n",
       "    }\n",
       "\n",
       "    .dataframe thead th {\n",
       "        text-align: right;\n",
       "    }\n",
       "</style>\n",
       "<table border=\"1\" class=\"dataframe\">\n",
       "  <thead>\n",
       "    <tr style=\"text-align: right;\">\n",
       "      <th></th>\n",
       "      <th>UserId</th>\n",
       "      <th>ProductId</th>\n",
       "      <th>Rating</th>\n",
       "      <th>Timestamp</th>\n",
       "    </tr>\n",
       "  </thead>\n",
       "  <tbody>\n",
       "    <tr>\n",
       "      <th>0</th>\n",
       "      <td>User44084</td>\n",
       "      <td>Product8646</td>\n",
       "      <td>3</td>\n",
       "      <td>1513224892</td>\n",
       "    </tr>\n",
       "    <tr>\n",
       "      <th>1</th>\n",
       "      <td>User32096</td>\n",
       "      <td>Product2879</td>\n",
       "      <td>3</td>\n",
       "      <td>1396046321</td>\n",
       "    </tr>\n",
       "    <tr>\n",
       "      <th>2</th>\n",
       "      <td>User48182</td>\n",
       "      <td>Product2150</td>\n",
       "      <td>3</td>\n",
       "      <td>1430840372</td>\n",
       "    </tr>\n",
       "    <tr>\n",
       "      <th>3</th>\n",
       "      <td>User48214</td>\n",
       "      <td>Product4226</td>\n",
       "      <td>4</td>\n",
       "      <td>1264279238</td>\n",
       "    </tr>\n",
       "    <tr>\n",
       "      <th>4</th>\n",
       "      <td>User27633</td>\n",
       "      <td>Product5750</td>\n",
       "      <td>3</td>\n",
       "      <td>1530777749</td>\n",
       "    </tr>\n",
       "    <tr>\n",
       "      <th>...</th>\n",
       "      <td>...</td>\n",
       "      <td>...</td>\n",
       "      <td>...</td>\n",
       "      <td>...</td>\n",
       "    </tr>\n",
       "    <tr>\n",
       "      <th>100071</th>\n",
       "      <td>User28844</td>\n",
       "      <td>Product7689</td>\n",
       "      <td>5</td>\n",
       "      <td>1528133693</td>\n",
       "    </tr>\n",
       "    <tr>\n",
       "      <th>100072</th>\n",
       "      <td>User24768</td>\n",
       "      <td>Product6914</td>\n",
       "      <td>5</td>\n",
       "      <td>1627781180</td>\n",
       "    </tr>\n",
       "    <tr>\n",
       "      <th>100073</th>\n",
       "      <td>User9547</td>\n",
       "      <td>Product2205</td>\n",
       "      <td>3</td>\n",
       "      <td>1501029965</td>\n",
       "    </tr>\n",
       "    <tr>\n",
       "      <th>100074</th>\n",
       "      <td>User47066</td>\n",
       "      <td>Product4386</td>\n",
       "      <td>2</td>\n",
       "      <td>1311893418</td>\n",
       "    </tr>\n",
       "    <tr>\n",
       "      <th>100075</th>\n",
       "      <td>User26984</td>\n",
       "      <td>Product3638</td>\n",
       "      <td>4</td>\n",
       "      <td>1274091928</td>\n",
       "    </tr>\n",
       "  </tbody>\n",
       "</table>\n",
       "<p>100076 rows × 4 columns</p>\n",
       "</div>"
      ],
      "text/plain": [
       "           UserId    ProductId  Rating   Timestamp\n",
       "0       User44084  Product8646       3  1513224892\n",
       "1       User32096  Product2879       3  1396046321\n",
       "2       User48182  Product2150       3  1430840372\n",
       "3       User48214  Product4226       4  1264279238\n",
       "4       User27633  Product5750       3  1530777749\n",
       "...           ...          ...     ...         ...\n",
       "100071  User28844  Product7689       5  1528133693\n",
       "100072  User24768  Product6914       5  1627781180\n",
       "100073   User9547  Product2205       3  1501029965\n",
       "100074  User47066  Product4386       2  1311893418\n",
       "100075  User26984  Product3638       4  1274091928\n",
       "\n",
       "[100076 rows x 4 columns]"
      ]
     },
     "execution_count": 19,
     "metadata": {},
     "output_type": "execute_result"
    }
   ],
   "source": [
    "data"
   ]
  },
  {
   "cell_type": "code",
   "execution_count": 27,
   "id": "555b70ee-810d-40b3-8d20-8fec7f8588f0",
   "metadata": {},
   "outputs": [
    {
     "data": {
      "text/plain": [
       "UserId       0\n",
       "ProductId    0\n",
       "Rating       0\n",
       "Timestamp    0\n",
       "dtype: int64"
      ]
     },
     "execution_count": 27,
     "metadata": {},
     "output_type": "execute_result"
    }
   ],
   "source": [
    "data.isnull().sum()"
   ]
  },
  {
   "cell_type": "code",
   "execution_count": 33,
   "id": "18330ed0-1ad2-42ea-97a5-de4825c83dcc",
   "metadata": {},
   "outputs": [
    {
     "data": {
      "text/html": [
       "<div>\n",
       "<style scoped>\n",
       "    .dataframe tbody tr th:only-of-type {\n",
       "        vertical-align: middle;\n",
       "    }\n",
       "\n",
       "    .dataframe tbody tr th {\n",
       "        vertical-align: top;\n",
       "    }\n",
       "\n",
       "    .dataframe thead th {\n",
       "        text-align: right;\n",
       "    }\n",
       "</style>\n",
       "<table border=\"1\" class=\"dataframe\">\n",
       "  <thead>\n",
       "    <tr style=\"text-align: right;\">\n",
       "      <th></th>\n",
       "      <th>UserId</th>\n",
       "      <th>ProductId</th>\n",
       "      <th>Rating</th>\n",
       "      <th>Timestamp</th>\n",
       "    </tr>\n",
       "  </thead>\n",
       "  <tbody>\n",
       "  </tbody>\n",
       "</table>\n",
       "</div>"
      ],
      "text/plain": [
       "Empty DataFrame\n",
       "Columns: [UserId, ProductId, Rating, Timestamp]\n",
       "Index: []"
      ]
     },
     "execution_count": 33,
     "metadata": {},
     "output_type": "execute_result"
    }
   ],
   "source": [
    "data[data.duplicated(keep=False)]"
   ]
  },
  {
   "cell_type": "markdown",
   "id": "6ef0a854-319a-4665-960c-80d061356e09",
   "metadata": {},
   "source": [
    "### Observations\n",
    "- there is no null values\n",
    "- There is also no duplicated values"
   ]
  },
  {
   "cell_type": "code",
   "execution_count": 39,
   "id": "54d98e91-ef9a-4812-b030-bf164eed47de",
   "metadata": {},
   "outputs": [
    {
     "data": {
      "text/plain": [
       "<Axes: >"
      ]
     },
     "execution_count": 39,
     "metadata": {},
     "output_type": "execute_result"
    },
    {
     "data": {
      "image/png": "[encoded data removed]",
      "text/plain": [
       "<Figure size 640x480 with 2 Axes>"
      ]
     },
     "metadata": {},
     "output_type": "display_data"
    }
   ],
   "source": [
    "cols = data.columns\n",
    "colours = ['red', 'yellow']\n",
    "sns.heatmap(data[cols].isnull(),cmap=sns.color_palette(colours),cbar = True)"
   ]
  },
  {
   "cell_type": "code",
   "execution_count": 49,
   "id": "2056566f-15ad-497b-a141-629e88bc810e",
   "metadata": {},
   "outputs": [
    {
     "name": "stdout",
     "output_type": "stream",
     "text": [
      "Rating\n",
      "2    20193\n",
      "4    20059\n",
      "1    19981\n",
      "5    19926\n",
      "3    19917\n",
      "Name: count, dtype: int64\n"
     ]
    }
   ],
   "source": [
    "print(data[\"Rating\"].value_counts())"
   ]
  },
  {
   "cell_type": "code",
   "execution_count": null,
   "id": "96689119-c5f9-4ee8-929f-5398768d7df4",
   "metadata": {},
   "outputs": [],
   "source": [
    "fig, axes = plt.subplots(2, 1, figsize=(8, 6), gridspec_kw={ 'height_ratios': [1, 3]})\n",
    "sns.boxplot(data=data [ \"Rating\"], ax=axes[0], color='skyblue', width=0.5, orient = 'h') \n",
    "axes[0].set_title(\"Boxplot\")\n",
    "axes[0].set_xlabel(\"Rating\")\n",
    "\n",
    "sns.histplot(data [\"Rating\"], kde=True, ax=axes [1], color='purple', bins=30)\n",
    "axes[1].set_title(\"Histogram with KDE\")\n",
    "axes[1].set_xlabel(\"Rating Levels\")\n",
    "axes[1].set_ylabel(\"Rating Levels\")\n",
    "axes[1].set_ylabel(\"UserId\")\n",
    "plt.tight_layout()\n",
    "plt.show"
   ]
  },
  {
   "cell_type": "code",
   "execution_count": null,
   "id": "ed50d213-000a-47b9-bfc0-451dae9c4b8b",
   "metadata": {},
   "outputs": [],
   "source": []
  }
 ],
 "metadata": {
  "kernelspec": {
   "display_name": "Python [conda env:MEmu Download]",
   "language": "python",
   "name": "conda-env-MEmu_Download-py"
  },
  "language_info": {
   "codemirror_mode": {
    "name": "ipython",
    "version": 3
   },
   "file_extension": ".py",
   "mimetype": "text/x-python",
   "name": "python",
   "nbconvert_exporter": "python",
   "pygments_lexer": "ipython3",
   "version": "3.12.7"
  }
 },
 "nbformat": 4,
 "nbformat_minor": 5
}
