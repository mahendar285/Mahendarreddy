{
 "cells": [
  {
   "cell_type": "code",
   "execution_count": 6,
   "id": "be3050a0-d385-4adc-9510-d89896d36f94",
   "metadata": {},
   "outputs": [
    {
     "name": "stdin",
     "output_type": "stream",
     "text": [
      "Enter a positive integer:  20\n"
     ]
    },
    {
     "name": "stdout",
     "output_type": "stream",
     "text": [
      "Sum of all even numbers between 1 and 20 is: 110\n"
     ]
    }
   ],
   "source": [
    "def sum_of_even_numbers(n):\n",
    "    # Initialize the sum to 0\n",
    "    total = 0\n",
    "    \n",
    "    # Loop through numbers from 1 to n\n",
    "    for i in range(1, n + 1):\n",
    "        # Check if the number is even\n",
    "        if i % 2 == 0:\n",
    "            total += i  # Add the even number to the total\n",
    "    \n",
    "    return total\n",
    "\n",
    "# Input: Read a positive integer n from the user\n",
    "n = int(input(\"Enter a positive integer: \"))\n",
    "\n",
    "# Output: Print the sum of all even numbers between 1 and n\n",
    "print(\"Sum of all even numbers between 1 and\", n, \"is:\", sum_of_even_numbers(n))\n"
   ]
  },
  {
   "cell_type": "code",
   "execution_count": null,
   "id": "b31a3754-39e5-46ab-9ffe-62a81cf0e5da",
   "metadata": {},
   "outputs": [],
   "source": []
  }
 ],
 "metadata": {
  "kernelspec": {
   "display_name": "Python [conda env:MEmu Download]",
   "language": "python",
   "name": "conda-env-MEmu_Download-py"
  },
  "language_info": {
   "codemirror_mode": {
    "name": "ipython",
    "version": 3
   },
   "file_extension": ".py",
   "mimetype": "text/x-python",
   "name": "python",
   "nbconvert_exporter": "python",
   "pygments_lexer": "ipython3",
   "version": "3.12.7"
  }
 },
 "nbformat": 4,
 "nbformat_minor": 5
}
