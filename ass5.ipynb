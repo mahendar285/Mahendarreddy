{
 "cells": [
  {
   "cell_type": "code",
   "execution_count": 1,
   "id": "203fdeec-63b2-45c5-aecf-c02fdc381d0c",
   "metadata": {},
   "outputs": [
    {
     "name": "stdin",
     "output_type": "stream",
     "text": [
      "Enter a positive integer for the first task:  10\n"
     ]
    },
    {
     "name": "stdout",
     "output_type": "stream",
     "text": [
      "\n",
      "Numbers from 1 to 10 using a for loop:\n",
      "1\n",
      "2\n",
      "3\n",
      "4\n",
      "5\n",
      "6\n",
      "7\n",
      "8\n",
      "9\n",
      "10\n",
      "\n",
      "Sum of numbers from 1 to 10 is: 55\n"
     ]
    },
    {
     "name": "stdin",
     "output_type": "stream",
     "text": [
      "\n",
      "Enter a positive integer for the second task:  20\n"
     ]
    },
    {
     "name": "stdout",
     "output_type": "stream",
     "text": [
      "The square of 20 is: 400\n"
     ]
    }
   ],
   "source": [
    "# Task 1: Ask the user to enter a positive integer n\n",
    "n = int(input(\"Enter a positive integer for the first task: \"))\n",
    "\n",
    "# Task 2: Use a for loop to print all numbers from 1 to n on separate lines\n",
    "print(\"\\nNumbers from 1 to\", n, \"using a for loop:\")\n",
    "for i in range(1, n + 1):\n",
    "    print(i)\n",
    "\n",
    "# Task 3: Use a while loop to calculate the sum of all numbers from 1 to n and print the result\n",
    "sum_numbers = 0\n",
    "i = 1\n",
    "while i <= n:\n",
    "    sum_numbers += i\n",
    "    i += 1\n",
    "\n",
    "print(\"\\nSum of numbers from 1 to\", n, \"is:\", sum_numbers)\n",
    "\n",
    "# Task 4: Define a function to calculate the square of a number\n",
    "def calculate_square(n):\n",
    "    return n * n\n",
    "\n",
    "# Task 5: Ask the user to input a positive integer for the second task\n",
    "number = int(input(\"\\nEnter a positive integer for the second task: \"))\n",
    "\n",
    "# Task 6: Call the calculate_square function and display the result\n",
    "square = calculate_square(number)\n",
    "print(f\"The square of {number} is: {square}\")\n"
   ]
  },
  {
   "cell_type": "code",
   "execution_count": null,
   "id": "39f41113-f134-4077-a328-070ebeb778e6",
   "metadata": {},
   "outputs": [],
   "source": []
  }
 ],
 "metadata": {
  "kernelspec": {
   "display_name": "Python [conda env:MEmu Download]",
   "language": "python",
   "name": "conda-env-MEmu_Download-py"
  },
  "language_info": {
   "codemirror_mode": {
    "name": "ipython",
    "version": 3
   },
   "file_extension": ".py",
   "mimetype": "text/x-python",
   "name": "python",
   "nbconvert_exporter": "python",
   "pygments_lexer": "ipython3",
   "version": "3.12.7"
  }
 },
 "nbformat": 4,
 "nbformat_minor": 5
}
